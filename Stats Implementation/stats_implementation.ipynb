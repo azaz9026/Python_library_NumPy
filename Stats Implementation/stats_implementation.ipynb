{
 "cells": [
  {
   "cell_type": "code",
   "execution_count": 2,
   "metadata": {},
   "outputs": [],
   "source": [
    "import pandas as pd\n",
    "import numpy as np \n",
    "import seaborn as sns "
   ]
  },
  {
   "cell_type": "code",
   "execution_count": 3,
   "metadata": {},
   "outputs": [
    {
     "data": {
      "text/plain": [
       "[1, 2, 3, 4, 5]"
      ]
     },
     "execution_count": 3,
     "metadata": {},
     "output_type": "execute_result"
    }
   ],
   "source": [
    "data  = [1,2,3,4,5]\n",
    "data"
   ]
  },
  {
   "cell_type": "markdown",
   "metadata": {},
   "source": [
    "# Mean"
   ]
  },
  {
   "cell_type": "code",
   "execution_count": 4,
   "metadata": {},
   "outputs": [
    {
     "data": {
      "text/plain": [
       "3.0"
      ]
     },
     "execution_count": 4,
     "metadata": {},
     "output_type": "execute_result"
    }
   ],
   "source": [
    "np.mean(data)"
   ]
  },
  {
   "cell_type": "code",
   "execution_count": 6,
   "metadata": {},
   "outputs": [
    {
     "data": {
      "text/html": [
       "<div>\n",
       "<style scoped>\n",
       "    .dataframe tbody tr th:only-of-type {\n",
       "        vertical-align: middle;\n",
       "    }\n",
       "\n",
       "    .dataframe tbody tr th {\n",
       "        vertical-align: top;\n",
       "    }\n",
       "\n",
       "    .dataframe thead th {\n",
       "        text-align: right;\n",
       "    }\n",
       "</style>\n",
       "<table border=\"1\" class=\"dataframe\">\n",
       "  <thead>\n",
       "    <tr style=\"text-align: right;\">\n",
       "      <th></th>\n",
       "      <th>total_bill</th>\n",
       "      <th>tip</th>\n",
       "      <th>sex</th>\n",
       "      <th>smoker</th>\n",
       "      <th>day</th>\n",
       "      <th>time</th>\n",
       "      <th>size</th>\n",
       "    </tr>\n",
       "  </thead>\n",
       "  <tbody>\n",
       "    <tr>\n",
       "      <th>0</th>\n",
       "      <td>16.99</td>\n",
       "      <td>1.01</td>\n",
       "      <td>Female</td>\n",
       "      <td>No</td>\n",
       "      <td>Sun</td>\n",
       "      <td>Dinner</td>\n",
       "      <td>2</td>\n",
       "    </tr>\n",
       "    <tr>\n",
       "      <th>1</th>\n",
       "      <td>10.34</td>\n",
       "      <td>1.66</td>\n",
       "      <td>Male</td>\n",
       "      <td>No</td>\n",
       "      <td>Sun</td>\n",
       "      <td>Dinner</td>\n",
       "      <td>3</td>\n",
       "    </tr>\n",
       "    <tr>\n",
       "      <th>2</th>\n",
       "      <td>21.01</td>\n",
       "      <td>3.50</td>\n",
       "      <td>Male</td>\n",
       "      <td>No</td>\n",
       "      <td>Sun</td>\n",
       "      <td>Dinner</td>\n",
       "      <td>3</td>\n",
       "    </tr>\n",
       "    <tr>\n",
       "      <th>3</th>\n",
       "      <td>23.68</td>\n",
       "      <td>3.31</td>\n",
       "      <td>Male</td>\n",
       "      <td>No</td>\n",
       "      <td>Sun</td>\n",
       "      <td>Dinner</td>\n",
       "      <td>2</td>\n",
       "    </tr>\n",
       "    <tr>\n",
       "      <th>4</th>\n",
       "      <td>24.59</td>\n",
       "      <td>3.61</td>\n",
       "      <td>Female</td>\n",
       "      <td>No</td>\n",
       "      <td>Sun</td>\n",
       "      <td>Dinner</td>\n",
       "      <td>4</td>\n",
       "    </tr>\n",
       "    <tr>\n",
       "      <th>...</th>\n",
       "      <td>...</td>\n",
       "      <td>...</td>\n",
       "      <td>...</td>\n",
       "      <td>...</td>\n",
       "      <td>...</td>\n",
       "      <td>...</td>\n",
       "      <td>...</td>\n",
       "    </tr>\n",
       "    <tr>\n",
       "      <th>239</th>\n",
       "      <td>29.03</td>\n",
       "      <td>5.92</td>\n",
       "      <td>Male</td>\n",
       "      <td>No</td>\n",
       "      <td>Sat</td>\n",
       "      <td>Dinner</td>\n",
       "      <td>3</td>\n",
       "    </tr>\n",
       "    <tr>\n",
       "      <th>240</th>\n",
       "      <td>27.18</td>\n",
       "      <td>2.00</td>\n",
       "      <td>Female</td>\n",
       "      <td>Yes</td>\n",
       "      <td>Sat</td>\n",
       "      <td>Dinner</td>\n",
       "      <td>2</td>\n",
       "    </tr>\n",
       "    <tr>\n",
       "      <th>241</th>\n",
       "      <td>22.67</td>\n",
       "      <td>2.00</td>\n",
       "      <td>Male</td>\n",
       "      <td>Yes</td>\n",
       "      <td>Sat</td>\n",
       "      <td>Dinner</td>\n",
       "      <td>2</td>\n",
       "    </tr>\n",
       "    <tr>\n",
       "      <th>242</th>\n",
       "      <td>17.82</td>\n",
       "      <td>1.75</td>\n",
       "      <td>Male</td>\n",
       "      <td>No</td>\n",
       "      <td>Sat</td>\n",
       "      <td>Dinner</td>\n",
       "      <td>2</td>\n",
       "    </tr>\n",
       "    <tr>\n",
       "      <th>243</th>\n",
       "      <td>18.78</td>\n",
       "      <td>3.00</td>\n",
       "      <td>Female</td>\n",
       "      <td>No</td>\n",
       "      <td>Thur</td>\n",
       "      <td>Dinner</td>\n",
       "      <td>2</td>\n",
       "    </tr>\n",
       "  </tbody>\n",
       "</table>\n",
       "<p>244 rows × 7 columns</p>\n",
       "</div>"
      ],
      "text/plain": [
       "     total_bill   tip     sex smoker   day    time  size\n",
       "0         16.99  1.01  Female     No   Sun  Dinner     2\n",
       "1         10.34  1.66    Male     No   Sun  Dinner     3\n",
       "2         21.01  3.50    Male     No   Sun  Dinner     3\n",
       "3         23.68  3.31    Male     No   Sun  Dinner     2\n",
       "4         24.59  3.61  Female     No   Sun  Dinner     4\n",
       "..          ...   ...     ...    ...   ...     ...   ...\n",
       "239       29.03  5.92    Male     No   Sat  Dinner     3\n",
       "240       27.18  2.00  Female    Yes   Sat  Dinner     2\n",
       "241       22.67  2.00    Male    Yes   Sat  Dinner     2\n",
       "242       17.82  1.75    Male     No   Sat  Dinner     2\n",
       "243       18.78  3.00  Female     No  Thur  Dinner     2\n",
       "\n",
       "[244 rows x 7 columns]"
      ]
     },
     "execution_count": 6,
     "metadata": {},
     "output_type": "execute_result"
    }
   ],
   "source": [
    "df = sns.load_dataset('tips')\n",
    "\n",
    "df"
   ]
  },
  {
   "cell_type": "code",
   "execution_count": 8,
   "metadata": {},
   "outputs": [
    {
     "data": {
      "text/plain": [
       "2.99827868852459"
      ]
     },
     "execution_count": 8,
     "metadata": {},
     "output_type": "execute_result"
    }
   ],
   "source": [
    "np.mean(df['tip'])"
   ]
  },
  {
   "cell_type": "code",
   "execution_count": 10,
   "metadata": {},
   "outputs": [
    {
     "name": "stdout",
     "output_type": "stream",
     "text": [
      "<class 'pandas.core.frame.DataFrame'>\n",
      "RangeIndex: 244 entries, 0 to 243\n",
      "Data columns (total 7 columns):\n",
      " #   Column      Non-Null Count  Dtype   \n",
      "---  ------      --------------  -----   \n",
      " 0   total_bill  244 non-null    float64 \n",
      " 1   tip         244 non-null    float64 \n",
      " 2   sex         244 non-null    category\n",
      " 3   smoker      244 non-null    category\n",
      " 4   day         244 non-null    category\n",
      " 5   time        244 non-null    category\n",
      " 6   size        244 non-null    int64   \n",
      "dtypes: category(4), float64(2), int64(1)\n",
      "memory usage: 7.4 KB\n"
     ]
    }
   ],
   "source": [
    "df.info()"
   ]
  },
  {
   "cell_type": "markdown",
   "metadata": {},
   "source": [
    "# Median"
   ]
  },
  {
   "cell_type": "code",
   "execution_count": 12,
   "metadata": {},
   "outputs": [
    {
     "data": {
      "text/plain": [
       "3.0"
      ]
     },
     "execution_count": 12,
     "metadata": {},
     "output_type": "execute_result"
    }
   ],
   "source": [
    "np.median(data)"
   ]
  },
  {
   "cell_type": "code",
   "execution_count": 11,
   "metadata": {},
   "outputs": [
    {
     "data": {
      "text/plain": [
       "2.9"
      ]
     },
     "execution_count": 11,
     "metadata": {},
     "output_type": "execute_result"
    }
   ],
   "source": [
    "np.median(df['tip'])"
   ]
  },
  {
   "cell_type": "markdown",
   "metadata": {},
   "source": [
    "***mean is inflated by outlier where as median is not inflated***"
   ]
  },
  {
   "cell_type": "code",
   "execution_count": 14,
   "metadata": {},
   "outputs": [
    {
     "data": {
      "text/plain": [
       "102.0"
      ]
     },
     "execution_count": 14,
     "metadata": {},
     "output_type": "execute_result"
    }
   ],
   "source": [
    "data = [1,2,3,4,500]\n",
    "data\n",
    "\n",
    "np.mean(data) #inflated"
   ]
  },
  {
   "cell_type": "code",
   "execution_count": 15,
   "metadata": {},
   "outputs": [
    {
     "data": {
      "text/plain": [
       "3.0"
      ]
     },
     "execution_count": 15,
     "metadata": {},
     "output_type": "execute_result"
    }
   ],
   "source": [
    "# median not inflated\n",
    "\n",
    "np.median(data) # not inflated"
   ]
  },
  {
   "cell_type": "markdown",
   "metadata": {},
   "source": [
    "# Mode"
   ]
  },
  {
   "cell_type": "code",
   "execution_count": 22,
   "metadata": {},
   "outputs": [
    {
     "ename": "AttributeError",
     "evalue": "module 'numpy' has no attribute 'mode'",
     "output_type": "error",
     "traceback": [
      "\u001b[1;31m---------------------------------------------------------------------------\u001b[0m",
      "\u001b[1;31mAttributeError\u001b[0m                            Traceback (most recent call last)",
      "Cell \u001b[1;32mIn[22], line 2\u001b[0m\n\u001b[0;32m      1\u001b[0m data \u001b[38;5;241m=\u001b[39m [\u001b[38;5;241m1\u001b[39m,\u001b[38;5;241m2\u001b[39m,\u001b[38;5;241m1\u001b[39m,\u001b[38;5;241m100\u001b[39m,\u001b[38;5;241m100\u001b[39m,\u001b[38;5;241m100\u001b[39m,\u001b[38;5;241m3\u001b[39m,\u001b[38;5;241m4\u001b[39m,\u001b[38;5;241m78\u001b[39m]\n\u001b[1;32m----> 2\u001b[0m \u001b[43mnp\u001b[49m\u001b[38;5;241;43m.\u001b[39;49m\u001b[43mmode\u001b[49m(data) \u001b[38;5;66;03m# throw an error\u001b[39;00m\n",
      "File \u001b[1;32mc:\\Users\\mdaza\\AppData\\Local\\Programs\\Python\\Python310\\lib\\site-packages\\numpy\\__init__.py:328\u001b[0m, in \u001b[0;36m__getattr__\u001b[1;34m(attr)\u001b[0m\n\u001b[0;32m    325\u001b[0m     \u001b[38;5;124m\"\u001b[39m\u001b[38;5;124mRemoved in NumPy 1.25.0\u001b[39m\u001b[38;5;124m\"\u001b[39m\n\u001b[0;32m    326\u001b[0m     \u001b[38;5;28;01mraise\u001b[39;00m \u001b[38;5;167;01mRuntimeError\u001b[39;00m(\u001b[38;5;124m\"\u001b[39m\u001b[38;5;124mTester was removed in NumPy 1.25.\u001b[39m\u001b[38;5;124m\"\u001b[39m)\n\u001b[1;32m--> 328\u001b[0m \u001b[38;5;28;01mraise\u001b[39;00m \u001b[38;5;167;01mAttributeError\u001b[39;00m(\u001b[38;5;124m\"\u001b[39m\u001b[38;5;124mmodule \u001b[39m\u001b[38;5;132;01m{!r}\u001b[39;00m\u001b[38;5;124m has no attribute \u001b[39m\u001b[38;5;124m\"\u001b[39m\n\u001b[0;32m    329\u001b[0m                      \u001b[38;5;124m\"\u001b[39m\u001b[38;5;132;01m{!r}\u001b[39;00m\u001b[38;5;124m\"\u001b[39m\u001b[38;5;241m.\u001b[39mformat(\u001b[38;5;18m__name__\u001b[39m, attr))\n",
      "\u001b[1;31mAttributeError\u001b[0m: module 'numpy' has no attribute 'mode'"
     ]
    }
   ],
   "source": [
    "data = [1,2,1,100,100,100,3,4,78]\n",
    "np.mode(data) # throw an error"
   ]
  },
  {
   "cell_type": "code",
   "execution_count": 23,
   "metadata": {},
   "outputs": [
    {
     "data": {
      "text/plain": [
       "100"
      ]
     },
     "execution_count": 23,
     "metadata": {},
     "output_type": "execute_result"
    }
   ],
   "source": [
    "import statistics\n",
    "statistics.mode(data)"
   ]
  },
  {
   "cell_type": "markdown",
   "metadata": {},
   "source": [
    "# Data describe"
   ]
  },
  {
   "cell_type": "code",
   "execution_count": 24,
   "metadata": {},
   "outputs": [
    {
     "data": {
      "text/html": [
       "<div>\n",
       "<style scoped>\n",
       "    .dataframe tbody tr th:only-of-type {\n",
       "        vertical-align: middle;\n",
       "    }\n",
       "\n",
       "    .dataframe tbody tr th {\n",
       "        vertical-align: top;\n",
       "    }\n",
       "\n",
       "    .dataframe thead th {\n",
       "        text-align: right;\n",
       "    }\n",
       "</style>\n",
       "<table border=\"1\" class=\"dataframe\">\n",
       "  <thead>\n",
       "    <tr style=\"text-align: right;\">\n",
       "      <th></th>\n",
       "      <th>total_bill</th>\n",
       "      <th>tip</th>\n",
       "      <th>size</th>\n",
       "    </tr>\n",
       "  </thead>\n",
       "  <tbody>\n",
       "    <tr>\n",
       "      <th>count</th>\n",
       "      <td>244.000000</td>\n",
       "      <td>244.000000</td>\n",
       "      <td>244.000000</td>\n",
       "    </tr>\n",
       "    <tr>\n",
       "      <th>mean</th>\n",
       "      <td>19.785943</td>\n",
       "      <td>2.998279</td>\n",
       "      <td>2.569672</td>\n",
       "    </tr>\n",
       "    <tr>\n",
       "      <th>std</th>\n",
       "      <td>8.902412</td>\n",
       "      <td>1.383638</td>\n",
       "      <td>0.951100</td>\n",
       "    </tr>\n",
       "    <tr>\n",
       "      <th>min</th>\n",
       "      <td>3.070000</td>\n",
       "      <td>1.000000</td>\n",
       "      <td>1.000000</td>\n",
       "    </tr>\n",
       "    <tr>\n",
       "      <th>25%</th>\n",
       "      <td>13.347500</td>\n",
       "      <td>2.000000</td>\n",
       "      <td>2.000000</td>\n",
       "    </tr>\n",
       "    <tr>\n",
       "      <th>50%</th>\n",
       "      <td>17.795000</td>\n",
       "      <td>2.900000</td>\n",
       "      <td>2.000000</td>\n",
       "    </tr>\n",
       "    <tr>\n",
       "      <th>75%</th>\n",
       "      <td>24.127500</td>\n",
       "      <td>3.562500</td>\n",
       "      <td>3.000000</td>\n",
       "    </tr>\n",
       "    <tr>\n",
       "      <th>max</th>\n",
       "      <td>50.810000</td>\n",
       "      <td>10.000000</td>\n",
       "      <td>6.000000</td>\n",
       "    </tr>\n",
       "  </tbody>\n",
       "</table>\n",
       "</div>"
      ],
      "text/plain": [
       "       total_bill         tip        size\n",
       "count  244.000000  244.000000  244.000000\n",
       "mean    19.785943    2.998279    2.569672\n",
       "std      8.902412    1.383638    0.951100\n",
       "min      3.070000    1.000000    1.000000\n",
       "25%     13.347500    2.000000    2.000000\n",
       "50%     17.795000    2.900000    2.000000\n",
       "75%     24.127500    3.562500    3.000000\n",
       "max     50.810000   10.000000    6.000000"
      ]
     },
     "execution_count": 24,
     "metadata": {},
     "output_type": "execute_result"
    }
   ],
   "source": [
    "df.describe()"
   ]
  },
  {
   "cell_type": "markdown",
   "metadata": {},
   "source": [
    "# Percentile of data"
   ]
  },
  {
   "cell_type": "code",
   "execution_count": 25,
   "metadata": {},
   "outputs": [
    {
     "data": {
      "text/plain": [
       "array([2.])"
      ]
     },
     "execution_count": 25,
     "metadata": {},
     "output_type": "execute_result"
    }
   ],
   "source": [
    "np.percentile(data , [25])"
   ]
  },
  {
   "cell_type": "code",
   "execution_count": 26,
   "metadata": {},
   "outputs": [
    {
     "data": {
      "text/plain": [
       "array([  2.,   4., 100.])"
      ]
     },
     "execution_count": 26,
     "metadata": {},
     "output_type": "execute_result"
    }
   ],
   "source": [
    "np.percentile(data , [25,50,75])"
   ]
  },
  {
   "cell_type": "code",
   "execution_count": 32,
   "metadata": {},
   "outputs": [
    {
     "data": {
      "text/plain": [
       "[1, 2, 1, 100, 100, 100, 3, 4, 78, -800, 6000]"
      ]
     },
     "execution_count": 32,
     "metadata": {},
     "output_type": "execute_result"
    }
   ],
   "source": [
    "data = [1,2,1,100,100,100,3,4,78]\n",
    "data\n",
    "\n",
    "data.append(-800)\n",
    "data.append(6000)\n",
    "\n",
    "data"
   ]
  },
  {
   "cell_type": "markdown",
   "metadata": {},
   "source": [
    "# Finding Outlier by boxplot"
   ]
  },
  {
   "cell_type": "code",
   "execution_count": 33,
   "metadata": {},
   "outputs": [
    {
     "data": {
      "text/plain": [
       "<Axes: >"
      ]
     },
     "execution_count": 33,
     "metadata": {},
     "output_type": "execute_result"
    },
    {
     "data": {
      "image/png": "[encoded data removed]",
      "text/plain": [
       "<Figure size 640x480 with 1 Axes>"
      ]
     },
     "metadata": {},
     "output_type": "display_data"
    }
   ],
   "source": [
    "sns.boxplot(data)"
   ]
  },
  {
   "cell_type": "markdown",
   "metadata": {},
   "source": [
    "# Variance , standard dev , mean"
   ]
  },
  {
   "cell_type": "code",
   "execution_count": 34,
   "metadata": {},
   "outputs": [
    {
     "data": {
      "text/plain": [
       "3076035.9008264462"
      ]
     },
     "execution_count": 34,
     "metadata": {},
     "output_type": "execute_result"
    }
   ],
   "source": [
    "np.var(data)"
   ]
  },
  {
   "cell_type": "code",
   "execution_count": 35,
   "metadata": {},
   "outputs": [
    {
     "data": {
      "text/plain": [
       "1753.8631362869926"
      ]
     },
     "execution_count": 35,
     "metadata": {},
     "output_type": "execute_result"
    }
   ],
   "source": [
    "np.std(data)"
   ]
  },
  {
   "cell_type": "code",
   "execution_count": 36,
   "metadata": {},
   "outputs": [
    {
     "data": {
      "text/plain": [
       "508.09090909090907"
      ]
     },
     "execution_count": 36,
     "metadata": {},
     "output_type": "execute_result"
    }
   ],
   "source": [
    "np.mean(data)"
   ]
  },
  {
   "cell_type": "markdown",
   "metadata": {},
   "source": [
    "# Sample variance by statistics method"
   ]
  },
  {
   "cell_type": "code",
   "execution_count": 37,
   "metadata": {},
   "outputs": [
    {
     "data": {
      "text/plain": [
       "3383639.4909090907"
      ]
     },
     "execution_count": 37,
     "metadata": {},
     "output_type": "execute_result"
    }
   ],
   "source": [
    "statistics.variance(data) # Sample variance"
   ]
  },
  {
   "cell_type": "code",
   "execution_count": 38,
   "metadata": {},
   "outputs": [
    {
     "data": {
      "text/plain": [
       "3076035.9008264462"
      ]
     },
     "execution_count": 38,
     "metadata": {},
     "output_type": "execute_result"
    }
   ],
   "source": [
    "statistics.pvariance(data) # populaton variance"
   ]
  },
  {
   "cell_type": "code",
   "execution_count": 54,
   "metadata": {},
   "outputs": [
    {
     "data": {
      "text/html": [
       "<div>\n",
       "<style scoped>\n",
       "    .dataframe tbody tr th:only-of-type {\n",
       "        vertical-align: middle;\n",
       "    }\n",
       "\n",
       "    .dataframe tbody tr th {\n",
       "        vertical-align: top;\n",
       "    }\n",
       "\n",
       "    .dataframe thead th {\n",
       "        text-align: right;\n",
       "    }\n",
       "</style>\n",
       "<table border=\"1\" class=\"dataframe\">\n",
       "  <thead>\n",
       "    <tr style=\"text-align: right;\">\n",
       "      <th></th>\n",
       "      <th>total_bill</th>\n",
       "      <th>tip</th>\n",
       "      <th>sex</th>\n",
       "      <th>smoker</th>\n",
       "      <th>day</th>\n",
       "      <th>time</th>\n",
       "      <th>size</th>\n",
       "    </tr>\n",
       "  </thead>\n",
       "  <tbody>\n",
       "    <tr>\n",
       "      <th>0</th>\n",
       "      <td>16.99</td>\n",
       "      <td>1.01</td>\n",
       "      <td>Female</td>\n",
       "      <td>No</td>\n",
       "      <td>Sun</td>\n",
       "      <td>Dinner</td>\n",
       "      <td>2</td>\n",
       "    </tr>\n",
       "    <tr>\n",
       "      <th>1</th>\n",
       "      <td>10.34</td>\n",
       "      <td>1.66</td>\n",
       "      <td>Male</td>\n",
       "      <td>No</td>\n",
       "      <td>Sun</td>\n",
       "      <td>Dinner</td>\n",
       "      <td>3</td>\n",
       "    </tr>\n",
       "    <tr>\n",
       "      <th>2</th>\n",
       "      <td>21.01</td>\n",
       "      <td>3.50</td>\n",
       "      <td>Male</td>\n",
       "      <td>No</td>\n",
       "      <td>Sun</td>\n",
       "      <td>Dinner</td>\n",
       "      <td>3</td>\n",
       "    </tr>\n",
       "    <tr>\n",
       "      <th>3</th>\n",
       "      <td>23.68</td>\n",
       "      <td>3.31</td>\n",
       "      <td>Male</td>\n",
       "      <td>No</td>\n",
       "      <td>Sun</td>\n",
       "      <td>Dinner</td>\n",
       "      <td>2</td>\n",
       "    </tr>\n",
       "    <tr>\n",
       "      <th>4</th>\n",
       "      <td>24.59</td>\n",
       "      <td>3.61</td>\n",
       "      <td>Female</td>\n",
       "      <td>No</td>\n",
       "      <td>Sun</td>\n",
       "      <td>Dinner</td>\n",
       "      <td>4</td>\n",
       "    </tr>\n",
       "    <tr>\n",
       "      <th>...</th>\n",
       "      <td>...</td>\n",
       "      <td>...</td>\n",
       "      <td>...</td>\n",
       "      <td>...</td>\n",
       "      <td>...</td>\n",
       "      <td>...</td>\n",
       "      <td>...</td>\n",
       "    </tr>\n",
       "    <tr>\n",
       "      <th>239</th>\n",
       "      <td>29.03</td>\n",
       "      <td>5.92</td>\n",
       "      <td>Male</td>\n",
       "      <td>No</td>\n",
       "      <td>Sat</td>\n",
       "      <td>Dinner</td>\n",
       "      <td>3</td>\n",
       "    </tr>\n",
       "    <tr>\n",
       "      <th>240</th>\n",
       "      <td>27.18</td>\n",
       "      <td>2.00</td>\n",
       "      <td>Female</td>\n",
       "      <td>Yes</td>\n",
       "      <td>Sat</td>\n",
       "      <td>Dinner</td>\n",
       "      <td>2</td>\n",
       "    </tr>\n",
       "    <tr>\n",
       "      <th>241</th>\n",
       "      <td>22.67</td>\n",
       "      <td>2.00</td>\n",
       "      <td>Male</td>\n",
       "      <td>Yes</td>\n",
       "      <td>Sat</td>\n",
       "      <td>Dinner</td>\n",
       "      <td>2</td>\n",
       "    </tr>\n",
       "    <tr>\n",
       "      <th>242</th>\n",
       "      <td>17.82</td>\n",
       "      <td>1.75</td>\n",
       "      <td>Male</td>\n",
       "      <td>No</td>\n",
       "      <td>Sat</td>\n",
       "      <td>Dinner</td>\n",
       "      <td>2</td>\n",
       "    </tr>\n",
       "    <tr>\n",
       "      <th>243</th>\n",
       "      <td>18.78</td>\n",
       "      <td>3.00</td>\n",
       "      <td>Female</td>\n",
       "      <td>No</td>\n",
       "      <td>Thur</td>\n",
       "      <td>Dinner</td>\n",
       "      <td>2</td>\n",
       "    </tr>\n",
       "  </tbody>\n",
       "</table>\n",
       "<p>244 rows × 7 columns</p>\n",
       "</div>"
      ],
      "text/plain": [
       "     total_bill   tip     sex smoker   day    time  size\n",
       "0         16.99  1.01  Female     No   Sun  Dinner     2\n",
       "1         10.34  1.66    Male     No   Sun  Dinner     3\n",
       "2         21.01  3.50    Male     No   Sun  Dinner     3\n",
       "3         23.68  3.31    Male     No   Sun  Dinner     2\n",
       "4         24.59  3.61  Female     No   Sun  Dinner     4\n",
       "..          ...   ...     ...    ...   ...     ...   ...\n",
       "239       29.03  5.92    Male     No   Sat  Dinner     3\n",
       "240       27.18  2.00  Female    Yes   Sat  Dinner     2\n",
       "241       22.67  2.00    Male    Yes   Sat  Dinner     2\n",
       "242       17.82  1.75    Male     No   Sat  Dinner     2\n",
       "243       18.78  3.00  Female     No  Thur  Dinner     2\n",
       "\n",
       "[244 rows x 7 columns]"
      ]
     },
     "execution_count": 54,
     "metadata": {},
     "output_type": "execute_result"
    }
   ],
   "source": [
    "df = sns.load_dataset('tips')\n",
    "df"
   ]
  },
  {
   "cell_type": "code",
   "execution_count": 56,
   "metadata": {},
   "outputs": [
    {
     "name": "stdout",
     "output_type": "stream",
     "text": [
      "            total_bill       tip      size\n",
      "total_bill    1.000000  0.675734  0.598315\n",
      "tip           0.675734  1.000000  0.489299\n",
      "size          0.598315  0.489299  1.000000\n"
     ]
    }
   ],
   "source": [
    "print(df.corr(numeric_only=True))"
   ]
  },
  {
   "cell_type": "code",
   "execution_count": 59,
   "metadata": {},
   "outputs": [
    {
     "data": {
      "text/plain": [
       "<Axes: >"
      ]
     },
     "execution_count": 59,
     "metadata": {},
     "output_type": "execute_result"
    },
    {
     "data": {
      "image/png": "[encoded data removed]",
      "text/plain": [
       "<Figure size 640x480 with 2 Axes>"
      ]
     },
     "metadata": {},
     "output_type": "display_data"
    }
   ],
   "source": [
    "corr = df.corr(numeric_only=True)\n",
    "sns.heatmap(corr  , annot=True)"
   ]
  },
  {
   "cell_type": "code",
   "execution_count": 61,
   "metadata": {},
   "outputs": [
    {
     "name": "stderr",
     "output_type": "stream",
     "text": [
      "c:\\Users\\mdaza\\AppData\\Local\\Programs\\Python\\Python310\\lib\\site-packages\\seaborn\\_oldcore.py:1119: FutureWarning: use_inf_as_na option is deprecated and will be removed in a future version. Convert inf values to NaN before operating instead.\n",
      "  with pd.option_context('mode.use_inf_as_na', True):\n",
      "c:\\Users\\mdaza\\AppData\\Local\\Programs\\Python\\Python310\\lib\\site-packages\\seaborn\\_oldcore.py:1119: FutureWarning: use_inf_as_na option is deprecated and will be removed in a future version. Convert inf values to NaN before operating instead.\n",
      "  with pd.option_context('mode.use_inf_as_na', True):\n",
      "c:\\Users\\mdaza\\AppData\\Local\\Programs\\Python\\Python310\\lib\\site-packages\\seaborn\\_oldcore.py:1119: FutureWarning: use_inf_as_na option is deprecated and will be removed in a future version. Convert inf values to NaN before operating instead.\n",
      "  with pd.option_context('mode.use_inf_as_na', True):\n"
     ]
    },
    {
     "data": {
      "text/plain": [
       "<seaborn.axisgrid.PairGrid at 0x1683aab7280>"
      ]
     },
     "execution_count": 61,
     "metadata": {},
     "output_type": "execute_result"
    },
    {
     "data": {
      "image/png": "[encoded data removed]",
      "text/plain": [
       "<Figure size 750x750 with 12 Axes>"
      ]
     },
     "metadata": {},
     "output_type": "display_data"
    }
   ],
   "source": [
    "sns.pairplot(df)"
   ]
  },
  {
   "cell_type": "code",
   "execution_count": 63,
   "metadata": {},
   "outputs": [
    {
     "name": "stderr",
     "output_type": "stream",
     "text": [
      "c:\\Users\\mdaza\\AppData\\Local\\Programs\\Python\\Python310\\lib\\site-packages\\seaborn\\_oldcore.py:1119: FutureWarning: use_inf_as_na option is deprecated and will be removed in a future version. Convert inf values to NaN before operating instead.\n",
      "  with pd.option_context('mode.use_inf_as_na', True):\n"
     ]
    },
    {
     "data": {
      "text/plain": [
       "<Axes: ylabel='Count'>"
      ]
     },
     "execution_count": 63,
     "metadata": {},
     "output_type": "execute_result"
    },
    {
     "data": {
      "image/png": "[encoded data removed]",
      "text/plain": [
       "<Figure size 640x480 with 1 Axes>"
      ]
     },
     "metadata": {},
     "output_type": "display_data"
    }
   ],
   "source": [
    "data\n",
    "\n",
    "sns.histplot(data)"
   ]
  },
  {
   "cell_type": "code",
   "execution_count": 64,
   "metadata": {},
   "outputs": [
    {
     "name": "stderr",
     "output_type": "stream",
     "text": [
      "c:\\Users\\mdaza\\AppData\\Local\\Programs\\Python\\Python310\\lib\\site-packages\\seaborn\\_oldcore.py:1119: FutureWarning: use_inf_as_na option is deprecated and will be removed in a future version. Convert inf values to NaN before operating instead.\n",
      "  with pd.option_context('mode.use_inf_as_na', True):\n"
     ]
    },
    {
     "data": {
      "text/plain": [
       "<Axes: ylabel='Count'>"
      ]
     },
     "execution_count": 64,
     "metadata": {},
     "output_type": "execute_result"
    },
    {
     "data": {
      "image/png": "[encoded data removed]",
      "text/plain": [
       "<Figure size 640x480 with 1 Axes>"
      ]
     },
     "metadata": {},
     "output_type": "display_data"
    }
   ],
   "source": [
    "sns.histplot(data , kde=True)"
   ]
  },
  {
   "cell_type": "code",
   "execution_count": 65,
   "metadata": {},
   "outputs": [
    {
     "name": "stderr",
     "output_type": "stream",
     "text": [
      "c:\\Users\\mdaza\\AppData\\Local\\Programs\\Python\\Python310\\lib\\site-packages\\seaborn\\_oldcore.py:1119: FutureWarning: use_inf_as_na option is deprecated and will be removed in a future version. Convert inf values to NaN before operating instead.\n",
      "  with pd.option_context('mode.use_inf_as_na', True):\n"
     ]
    },
    {
     "data": {
      "text/plain": [
       "<Axes: xlabel='total_bill', ylabel='Count'>"
      ]
     },
     "execution_count": 65,
     "metadata": {},
     "output_type": "execute_result"
    },
    {
     "data": {
      "image/png": "[encoded data removed]",
      "text/plain": [
       "<Figure size 640x480 with 1 Axes>"
      ]
     },
     "metadata": {},
     "output_type": "display_data"
    }
   ],
   "source": [
    "sns.histplot(df['total_bill'] , kde=True)"
   ]
  },
  {
   "cell_type": "code",
   "execution_count": 70,
   "metadata": {},
   "outputs": [
    {
     "name": "stderr",
     "output_type": "stream",
     "text": [
      "c:\\Users\\mdaza\\AppData\\Local\\Programs\\Python\\Python310\\lib\\site-packages\\seaborn\\_oldcore.py:1119: FutureWarning: use_inf_as_na option is deprecated and will be removed in a future version. Convert inf values to NaN before operating instead.\n",
      "  with pd.option_context('mode.use_inf_as_na', True):\n"
     ]
    },
    {
     "data": {
      "text/plain": [
       "<seaborn.axisgrid.FacetGrid at 0x1683f20ff40>"
      ]
     },
     "execution_count": 70,
     "metadata": {},
     "output_type": "execute_result"
    },
    {
     "data": {
      "image/png": "[encoded data removed]",
      "text/plain": [
       "<Figure size 500x500 with 1 Axes>"
      ]
     },
     "metadata": {},
     "output_type": "display_data"
    }
   ],
   "source": [
    "sns.displot(df['total_bill'], kind='kde')\n"
   ]
  },
  {
   "cell_type": "code",
   "execution_count": 71,
   "metadata": {},
   "outputs": [
    {
     "data": {
      "text/plain": [
       "array([ 0.78027159,  0.50206583,  0.7064761 ,  0.1314089 ,  0.64547737,\n",
       "        0.58690335,  0.54440817,  0.50711939,  0.4758383 ,  0.62911056,\n",
       "        0.68815412,  0.62673558,  0.24432382,  0.23586729,  0.51929117,\n",
       "        0.23930218,  0.07071946,  0.32637528,  0.54981778,  0.59243548,\n",
       "        0.62317517,  0.2220587 ,  0.48758676,  0.32801541,  0.53025867,\n",
       "        0.2013123 ,  0.49645376,  0.46643897,  0.34641148,  0.39674719,\n",
       "        0.80005243,  0.48626401,  0.13998716,  0.64687236,  0.65947074,\n",
       "        0.6415359 ,  0.43208005,  0.19554926,  0.50456147,  0.446719  ,\n",
       "        0.39692327,  0.45954055,  0.30131071,  0.51417782,  0.58585254,\n",
       "        0.47977732,  0.51858477,  0.1070556 ,  0.47413398,  0.62207443,\n",
       "        0.61830544,  0.57806782,  0.23271293,  0.26382412,  0.41827771,\n",
       "        0.46720106,  0.70197979,  0.38032819,  0.65780757, -0.03602373,\n",
       "        0.4336231 ,  0.47891916,  0.43763434,  0.57114725,  0.52213815,\n",
       "        0.16423722,  0.74102417,  0.39037825,  0.54085494,  0.24435217,\n",
       "        0.92975349,  0.49682192,  0.5720708 ,  0.75919508,  0.33994412,\n",
       "        0.61607384,  0.51278709,  0.58834681,  0.53390993,  0.35424415,\n",
       "        0.39754291,  0.60232351,  0.30515894,  0.46554771,  0.14965789,\n",
       "        0.7532288 ,  0.81094839,  0.56680717,  0.30727749,  0.22055413,\n",
       "        0.41604529,  0.22264195,  0.57813387,  0.20782586,  0.48373378,\n",
       "        0.63589917,  0.2054822 ,  0.4988526 ,  0.80293946,  0.45136516,\n",
       "        0.91119532,  0.27988805,  0.51766684,  0.6707327 ,  0.41402371,\n",
       "        0.50812609,  0.70962636,  0.8970726 ,  0.57598243,  0.70451336,\n",
       "        0.78969032,  0.49597613,  0.75975093,  0.61567101,  0.62354862,\n",
       "        0.65278065,  0.45181386,  0.65342669,  0.34838313,  0.49546796,\n",
       "        0.26804549,  0.40445617,  0.33942365,  0.43388793,  0.44030785,\n",
       "        0.23592106,  0.85528882,  0.54963211,  0.24777654,  0.2554703 ,\n",
       "        0.30571274,  0.16969399,  0.76901842,  0.57932665,  0.66203416,\n",
       "        0.71717272,  0.59290104,  0.41584854,  0.34203123,  0.63536683,\n",
       "        0.3613661 ,  0.43148262,  0.4370239 ,  0.43694307,  0.23297584,\n",
       "        0.66195171,  0.4226431 ,  0.59047589,  0.3919715 ,  0.23120455,\n",
       "        0.80825981,  0.84861658,  0.36513915,  0.24853563,  0.27478677,\n",
       "        0.12161328,  0.03811112,  0.65278035,  0.0538751 ,  0.0210558 ,\n",
       "        0.57535925,  0.56083217,  0.45284206,  0.78859096,  0.61228052,\n",
       "        0.68980094,  0.78669275,  0.3478904 ,  0.09433575,  0.24278161,\n",
       "        0.21326337,  0.46855844,  0.35305163,  0.69647066,  0.45115954,\n",
       "        0.12537672,  0.52442873,  0.38099052,  0.35316025,  0.46314238,\n",
       "        0.61994944,  0.34306569,  0.775878  ,  0.70844397,  0.64492557,\n",
       "        0.09990148,  0.43148424,  0.58035215,  0.49858354,  0.57261315,\n",
       "        0.44073261,  0.91173842,  0.87702736,  0.62188178,  0.50212769,\n",
       "        0.50816357,  0.50066679,  0.56496066,  0.54156222,  0.3838084 ,\n",
       "        0.73633428,  0.32658605,  0.86263646,  0.43172344,  0.33633468,\n",
       "        0.37554073,  0.6225741 ,  0.68349867,  0.71895661,  0.88228   ,\n",
       "        0.51436666,  0.76795313,  0.24542481,  0.61078549,  0.48153229,\n",
       "        0.44480691,  0.61269691,  0.48019146,  0.68624939,  0.59518596,\n",
       "        0.57080949,  0.43807654,  0.44126107,  0.60471518,  0.11082484,\n",
       "        0.64905399,  0.54887051,  0.59952343,  0.39001249,  0.63463551,\n",
       "        0.10369519,  0.49581536,  0.03793196,  0.42981017,  0.77353991,\n",
       "        0.7174405 ,  0.54871359,  0.62181575,  0.81377733,  0.59461867,\n",
       "        0.31628337,  0.28631454,  0.4327001 ,  0.52780343,  0.77977908,\n",
       "        0.61167634,  0.68077783,  0.48153264,  0.66526393,  0.39957543,\n",
       "        0.73106331,  0.77398243,  0.419511  ,  0.86478946,  0.5924137 ,\n",
       "        0.41904577,  0.25563568,  0.21451682,  0.7423032 ,  0.58433158,\n",
       "        0.68615541,  0.57976065,  0.5118308 ,  0.58823303,  0.5235616 ,\n",
       "        0.46939222,  0.72865523,  0.38823569,  0.33890514,  0.24079145,\n",
       "        0.22069301,  0.10300381,  0.3836861 ,  0.81982212,  0.53722267,\n",
       "        0.47631802,  0.42177182,  0.62755754,  0.76045413,  0.30131112,\n",
       "        0.55375936,  0.32244712,  0.2710786 ,  0.41775357,  0.55553386,\n",
       "        0.72500084,  0.19098041,  0.63695466,  0.09718423,  0.48836518,\n",
       "        0.57691236,  0.20177984,  0.62019808,  0.19635542,  0.63203187,\n",
       "        0.58942821,  0.19224383,  0.0702201 ,  0.9073572 ,  0.57258417,\n",
       "        0.67677195,  0.61288731,  0.42252034,  0.22977585,  0.93341302,\n",
       "        0.26800895,  0.34384806,  0.67677006,  0.54050759,  0.56997279,\n",
       "        0.56012197,  0.41402823,  0.66772094,  0.31589763,  0.20796846,\n",
       "        0.24681542,  0.68654638,  0.71472524,  0.33363733,  0.62001295,\n",
       "        0.45768047,  1.08722556,  0.67566386,  0.52015445,  0.56378798,\n",
       "        0.6145085 ,  0.45723687,  0.60985426,  0.34964652,  0.26145887,\n",
       "        0.29167841,  0.23535373,  0.52646425,  0.61099073,  0.18812816,\n",
       "        0.27688583,  0.64466442,  0.50311128,  0.42445325,  0.43566442,\n",
       "        0.46597484,  0.44034553,  0.48582282,  0.26832843,  0.52975923,\n",
       "        0.52521335,  0.32683446,  0.58178226,  0.643821  , -0.04042543,\n",
       "        0.48984998,  0.37621256,  0.69223884,  0.29993466,  0.32073771,\n",
       "        0.60411239,  0.29756553,  0.86467601,  0.36951804,  0.37375962,\n",
       "        0.74921363,  0.61106387,  0.60902257,  0.45125466,  0.41228525,\n",
       "        0.52371532,  0.76701761,  0.85646642,  0.24786378,  0.19557173,\n",
       "        0.11089716,  0.70813414,  0.51518204,  0.84127119,  0.50388609,\n",
       "        0.64376947,  0.44268979,  0.67602719,  0.71499358,  0.26111047,\n",
       "        0.6452563 ,  0.68174302,  0.56621133,  0.28960986,  0.47153354,\n",
       "        0.60998324,  0.51388353,  0.76102182,  0.70041522,  0.37202963,\n",
       "        0.0802142 ,  0.13512139,  0.72020204,  0.09520225,  0.44784427,\n",
       "        0.66813809,  0.4729522 ,  0.80116073,  0.29210984,  0.32239172,\n",
       "        0.72969181,  0.61323622,  0.8846708 ,  0.41737632,  0.34580272,\n",
       "        0.39474777,  0.40421884,  0.23561283,  0.5997431 ,  0.87440301,\n",
       "        0.4663691 ,  0.77864025,  0.70535224,  0.55963748,  0.64667279,\n",
       "        0.66289461,  0.54367453,  0.63550361,  0.36759137,  0.41233259,\n",
       "        0.41321779,  0.61431262,  0.50651201,  0.60677013,  0.28324566,\n",
       "        0.6807993 ,  0.46688851,  0.36183036,  0.56871207,  0.85725062,\n",
       "        0.72826872,  0.4796211 ,  0.59540903,  0.27963591,  0.28594183,\n",
       "        0.44101232,  0.6355117 ,  0.36731906,  0.67431591,  0.37392182,\n",
       "        0.49223145,  0.14619444,  0.5850606 ,  0.43466752,  0.16828763,\n",
       "        0.61715786,  0.35058392,  0.20154227,  0.51124157,  0.44726651,\n",
       "        0.48450164,  0.40472119,  0.43330158,  0.62222985,  0.3969119 ,\n",
       "        0.54010088,  0.68776722,  0.58743209,  0.65111315,  0.44314037,\n",
       "        0.73128608,  0.36852973,  0.83041307,  0.76928675,  0.82081279,\n",
       "        0.43414725,  0.19693263,  0.87691751,  0.49515734,  0.74344751,\n",
       "        0.41427314,  0.42836454,  0.51967879,  0.65972846,  0.57119277,\n",
       "        0.43687929,  0.57134611, -0.0070871 ,  0.2081013 ,  0.32201046,\n",
       "        0.45297444,  0.90616197,  0.75882587,  0.33282916,  0.3919147 ,\n",
       "        0.49137793,  0.37008621,  0.59214266,  0.46383157,  0.22859959,\n",
       "        0.35808948,  0.4756362 ,  0.52651096,  0.73939785,  0.56440075,\n",
       "        0.47548109,  0.74458717,  0.44514394,  0.54632686,  0.10025314,\n",
       "        0.51047162,  0.32512465,  0.24901667,  0.65998837,  0.61378602,\n",
       "        0.55774118,  0.37637307,  0.50085985,  0.57272004,  0.06964078,\n",
       "        0.4298828 ,  0.36015659,  0.9742634 ,  0.43955847,  0.52368097,\n",
       "        0.48418545,  0.77807274,  0.61938668,  0.34152034,  0.78246394,\n",
       "        0.7089214 ,  0.58125633,  0.26209028,  0.69365255, -0.07826484,\n",
       "        0.80710749,  0.22296597,  0.49509021,  0.50031938,  0.85006064,\n",
       "        0.56163218,  0.44804757,  0.79911361,  0.58398814,  0.4604636 ,\n",
       "        0.56159199,  0.55928807,  0.53713393,  0.7928377 ,  0.56433968,\n",
       "        0.53297247,  0.32891514,  0.67491044,  0.26922913,  0.42914128,\n",
       "        0.69444135,  0.42244132,  0.55484403,  0.61495182,  0.32299251,\n",
       "        0.40148154,  0.66651665,  0.22226954,  0.70921306,  0.47986449,\n",
       "        0.53372154,  0.35561071,  0.45561222,  0.63606519,  0.26462576,\n",
       "        0.68598868,  0.546029  ,  0.52101247,  0.43635551,  0.36447481,\n",
       "        0.70831242,  0.69994679,  0.81686821,  0.56869778,  0.89486293,\n",
       "        0.40434289,  0.81914225,  0.56901003,  0.54946253,  0.3489003 ,\n",
       "        0.0742159 ,  0.35882754,  0.42226457,  0.61956145,  0.49401361,\n",
       "        0.44213768,  0.5798087 ,  0.59114495,  0.56731657,  0.87589473,\n",
       "        0.42894645,  0.45477724,  0.44473576,  0.21249773,  0.56253222,\n",
       "        0.55141427,  0.37620443,  0.55267306,  0.06162226,  0.49431334,\n",
       "        0.86518305,  0.46915804,  0.6762922 ,  0.68446617,  0.70662998,\n",
       "        0.42055376,  0.48691607,  0.58927333,  0.41984511,  0.4271801 ,\n",
       "        0.52675271,  0.11922424,  0.65649356,  0.60012188,  0.42254912,\n",
       "        0.34349537,  0.70197929,  0.72301716,  0.42985543,  0.41461023,\n",
       "        0.7610462 ,  0.4584552 ,  0.55395235,  0.49818367,  0.61883803,\n",
       "        0.29625898,  0.25404175,  0.80207261,  0.52940266,  0.13600215,\n",
       "        0.29596195,  0.2435508 ,  0.35662972,  0.40940686,  0.52578486,\n",
       "        0.25271984,  0.65258379,  0.2861252 ,  0.37768097,  0.68241439,\n",
       "        0.50660088,  0.61617677,  0.45996586,  0.68497283,  0.69512041,\n",
       "        0.37790975,  0.74567025,  0.33855275,  0.13981539,  0.46856232,\n",
       "        0.88427865,  0.7832718 ,  0.70404683,  0.52812821,  0.64131546,\n",
       "        0.26469887,  0.59545218,  0.33331262,  0.47374749,  0.55605115,\n",
       "        0.53644864,  0.54631743,  0.56807708,  0.25564763,  0.3524187 ,\n",
       "        0.64219968,  0.20991479,  0.22799482,  0.71908631,  0.4749687 ,\n",
       "        0.72810212,  0.71056595,  0.37249587,  0.59080617,  0.14342637,\n",
       "        0.74579114,  0.48701418,  0.7107238 ,  0.50419551,  0.49203566,\n",
       "        0.48934463,  0.21861626,  0.81750333,  0.63013018,  0.45734107,\n",
       "        0.7620451 ,  0.46961248,  0.43218211,  0.7165928 ,  0.60389545,\n",
       "        0.44686644,  0.63907823,  0.28219664,  0.75899655,  0.48008391,\n",
       "        0.73032376,  0.52099386,  0.22625177,  0.60056835,  0.51065775,\n",
       "        0.58435879,  0.66843809,  0.97550486,  0.3885861 ,  0.56315447,\n",
       "        0.06562862,  0.42856434,  0.39894053,  0.37128324,  0.63879889,\n",
       "        0.55350492,  0.69757739,  0.37286696,  0.41514758,  0.08655388,\n",
       "        0.66769817,  0.6175164 ,  0.48040063,  0.70782237,  0.3050406 ,\n",
       "        0.28922299,  0.62948098,  0.60272784,  0.51383363,  0.6856265 ,\n",
       "        0.53371985,  0.86987406,  0.08868456,  0.78317124,  0.4349108 ,\n",
       "        0.65648807,  0.68129733,  0.37184233,  0.34193653,  0.79929981,\n",
       "        0.22298686,  0.50133834,  0.43392969,  0.46960763,  0.69201931,\n",
       "        0.72648424,  0.39644603,  0.81037866,  0.73524813,  0.30554581,\n",
       "        0.38027554,  0.83983408,  0.45289096,  0.39751377,  0.8256797 ,\n",
       "        0.50894493,  0.39739453,  0.50894673,  0.54191075,  0.65435166,\n",
       "        0.54284669,  0.42039341,  0.67584383,  0.52782236,  0.84621579,\n",
       "        0.54144779,  0.83135862,  0.60958991,  0.30222227,  0.17212579,\n",
       "        0.35760446,  0.73315035,  0.82110256,  0.80010857,  0.33175376,\n",
       "        0.4625032 ,  0.5897146 ,  0.26419455,  0.60191192,  0.57231589,\n",
       "        0.49222135,  0.52628489,  0.43162268,  0.52726092,  0.60826772,\n",
       "        0.61250081,  0.73139514,  0.23789652,  0.74129664,  0.48240892,\n",
       "        0.61427396,  0.56783144,  0.2039936 ,  0.31861171,  0.44548831,\n",
       "        0.55455283,  0.3814736 ,  0.37594253,  0.42974721,  0.7601105 ,\n",
       "        0.35147967,  0.3237643 ,  0.58554138,  0.19165193,  0.47173018,\n",
       "        0.64305586,  0.39795639,  0.61474847,  0.22238116,  0.55145802,\n",
       "        0.21958547,  0.56459541,  0.55585053,  0.6376606 ,  0.54365984,\n",
       "        0.25383598,  0.16554745,  0.5217919 ,  0.72555637,  0.46833514,\n",
       "        0.44786044,  0.6684874 ,  0.34030593,  0.17178307,  0.49136763,\n",
       "        0.54223797,  0.65724617,  0.47308039,  0.56838552,  0.56682839,\n",
       "        0.30879995,  0.1524586 ,  0.81995613,  0.32984498,  0.77872976,\n",
       "        0.1726556 ,  0.76713503,  0.46869767,  0.54565681,  0.65043617,\n",
       "        0.70941529,  0.59790065,  0.6244556 ,  0.27870787,  0.65053071,\n",
       "        0.42742079,  0.55690692,  0.41892047,  0.55679851,  0.33880223,\n",
       "        0.54964407,  0.38752574,  0.53916586,  0.45537329,  0.38147479,\n",
       "        0.30544795,  0.40380914,  0.70298146,  0.56573474,  0.33263455,\n",
       "        0.59334684,  0.41333879,  0.58195247,  0.21028665,  0.83430821,\n",
       "        0.70124326,  0.5187323 ,  0.31220037,  0.22558711,  0.71876138,\n",
       "        0.54886792,  0.58259265,  0.84058975,  0.36057962,  0.70686568,\n",
       "        0.65931643,  0.67525245,  0.31528789,  0.36797277,  0.29761817,\n",
       "        1.01103811,  0.73201742,  0.64315445,  0.62342915,  0.38923233,\n",
       "        0.6444301 ,  0.35059285,  0.52346357,  0.07628935,  0.47491191,\n",
       "        0.49091547, -0.09678402,  0.26823746,  0.28843766,  0.69884753,\n",
       "        0.58059049,  0.3023293 ,  0.81696623,  0.45435581,  0.24811724,\n",
       "        0.27504012,  0.22837879,  0.93183019,  0.22061065,  0.46956327,\n",
       "        0.87445473,  0.78698987,  0.37412707,  0.08079983,  0.60888001,\n",
       "        0.58248277,  0.43606521,  0.20847006,  0.47038138,  0.43481459,\n",
       "        0.33983491,  0.40828309,  0.41127977,  0.27915261,  0.36741937,\n",
       "        0.86789431,  0.53161468,  0.51946524,  0.5524216 ,  0.39187176,\n",
       "        0.86922558,  0.40089382,  0.51025194,  0.62478915,  0.61266803,\n",
       "        0.64834748,  0.48586743,  0.25546706,  0.23763597,  0.40438995,\n",
       "        0.44042918,  0.32675177,  0.35162459,  0.85861546,  0.53432912,\n",
       "        0.66576973,  0.30476134,  0.53376619,  0.38165625,  0.69317202,\n",
       "        0.43748741,  0.60629992,  0.15082687,  0.72265342,  0.46895051,\n",
       "        0.4043443 ,  0.58180205,  0.89766366,  0.76848557,  0.409389  ,\n",
       "        0.40248309,  0.39189659,  0.58510906,  0.40531548,  0.44694447,\n",
       "        0.75014127,  0.77954032,  0.06351618,  0.94496884,  0.82215467,\n",
       "        0.65025031,  0.18628313,  1.049478  ,  0.61191009,  0.57928057,\n",
       "        0.60477262,  0.36151839,  0.50421171,  0.62754055,  0.55548408,\n",
       "        0.64932453,  0.83438185,  0.71978985,  0.53388849,  0.52772192,\n",
       "        0.26374206,  1.02044711,  0.41909389,  0.6381746 ,  0.72128166,\n",
       "        0.35344336,  0.50460478,  0.61407238,  0.6093478 ,  0.31253299,\n",
       "        0.53259656,  0.42580761,  0.34114856,  0.34595149,  0.68636218,\n",
       "        0.37697825,  0.26962161,  0.55717956,  0.43403112,  0.43848522,\n",
       "        0.70289696,  0.87542203,  0.19981744,  0.75134745,  0.62613894,\n",
       "        0.48366261,  0.52884545,  0.22708386,  0.55765127,  0.81822579])"
      ]
     },
     "execution_count": 71,
     "metadata": {},
     "output_type": "execute_result"
    }
   ],
   "source": [
    "np.random.normal(0.5 , 0.2 , 1000)"
   ]
  },
  {
   "cell_type": "code",
   "execution_count": 72,
   "metadata": {},
   "outputs": [
    {
     "name": "stderr",
     "output_type": "stream",
     "text": [
      "c:\\Users\\mdaza\\AppData\\Local\\Programs\\Python\\Python310\\lib\\site-packages\\seaborn\\_oldcore.py:1119: FutureWarning: use_inf_as_na option is deprecated and will be removed in a future version. Convert inf values to NaN before operating instead.\n",
      "  with pd.option_context('mode.use_inf_as_na', True):\n"
     ]
    },
    {
     "data": {
      "text/plain": [
       "<Axes: ylabel='Count'>"
      ]
     },
     "execution_count": 72,
     "metadata": {},
     "output_type": "execute_result"
    },
    {
     "data": {
      "image/png": "[encoded data removed]",
      "text/plain": [
       "<Figure size 640x480 with 1 Axes>"
      ]
     },
     "metadata": {},
     "output_type": "display_data"
    }
   ],
   "source": [
    "var = np.random.normal(0.5 , 0.2 , 1000)\n",
    "\n",
    "sns.histplot(var , kde= True)"
   ]
  },
  {
   "cell_type": "code",
   "execution_count": 73,
   "metadata": {},
   "outputs": [
    {
     "name": "stderr",
     "output_type": "stream",
     "text": [
      "C:\\Users\\mdaza\\AppData\\Local\\Temp\\ipykernel_22808\\3605439253.py:1: UserWarning: \n",
      "\n",
      "`distplot` is a deprecated function and will be removed in seaborn v0.14.0.\n",
      "\n",
      "Please adapt your code to use either `displot` (a figure-level function with\n",
      "similar flexibility) or `histplot` (an axes-level function for histograms).\n",
      "\n",
      "For a guide to updating your code to use the new functions, please see\n",
      "https://gist.github.com/mwaskom/de44147ed2974457ad6372750bbe5751\n",
      "\n",
      "  sns.distplot(var , kde= True)\n",
      "c:\\Users\\mdaza\\AppData\\Local\\Programs\\Python\\Python310\\lib\\site-packages\\seaborn\\_oldcore.py:1119: FutureWarning: use_inf_as_na option is deprecated and will be removed in a future version. Convert inf values to NaN before operating instead.\n",
      "  with pd.option_context('mode.use_inf_as_na', True):\n"
     ]
    },
    {
     "data": {
      "text/plain": [
       "<Axes: ylabel='Density'>"
      ]
     },
     "execution_count": 73,
     "metadata": {},
     "output_type": "execute_result"
    },
    {
     "data": {
      "image/png": "[encoded data removed]",
      "text/plain": [
       "<Figure size 640x480 with 1 Axes>"
      ]
     },
     "metadata": {},
     "output_type": "display_data"
    }
   ],
   "source": [
    "sns.distplot(var , kde= True)"
   ]
  }
 ],
 "metadata": {
  "kernelspec": {
   "display_name": "Python 3",
   "language": "python",
   "name": "python3"
  },
  "language_info": {
   "codemirror_mode": {
    "name": "ipython",
    "version": 3
   },
   "file_extension": ".py",
   "mimetype": "text/x-python",
   "name": "python",
   "nbconvert_exporter": "python",
   "pygments_lexer": "ipython3",
   "version": "3.10.7"
  }
 },
 "nbformat": 4,
 "nbformat_minor": 2
}
